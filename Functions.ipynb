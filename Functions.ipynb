{
  "nbformat": 4,
  "nbformat_minor": 0,
  "metadata": {
    "colab": {
      "provenance": []
    },
    "kernelspec": {
      "name": "python3",
      "display_name": "Python 3"
    },
    "language_info": {
      "name": "python"
    }
  },
  "cells": [
    {
      "cell_type": "markdown",
      "source": [
        "#FUNCTIONS\n"
      ],
      "metadata": {
        "id": "wBpeknReKGCW"
      }
    },
    {
      "cell_type": "markdown",
      "source": [
        "1. What is the difference between a function and a method in Python?\n",
        "    - A function is an independent block of code that can call itself where as a method is a function part of object which is a part of class."
      ],
      "metadata": {
        "id": "FhkdoTsmKOKY"
      }
    },
    {
      "cell_type": "markdown",
      "source": [
        "2.Explain the concept of function arguments and parameters in Python.?\n",
        "  - arugments and parameter both are used to pass a value to a function, Parameter can be defined as the variable that is been listed within the function and where as argument is the actual value that has been passed"
      ],
      "metadata": {
        "id": "I5n2PkgOLKlI"
      }
    },
    {
      "cell_type": "markdown",
      "source": [
        "3.What are the different ways to define and call a function in Python?\n",
        " - A function can be called in many ways usin def keywords which is mostly used and also with default argument when values are not provided, it can also be called using *arg for multiple positional arguments and **kwrags for multiple keyword argument and with nested function as well when a functon is called within a function is called a nested function and using lambda for short expresions"
      ],
      "metadata": {
        "id": "oc7V9GaUL6FP"
      }
    },
    {
      "cell_type": "markdown",
      "source": [],
      "metadata": {
        "id": "nk-Is-y0NoXP"
      }
    },
    {
      "cell_type": "markdown",
      "source": [
        "4. What is the purpose of the `return` statement in a Python function?\n",
        "  - Areturn function is used to return back the result or value to the caller\n",
        "  and it stops the function for executing further and give back the result"
      ],
      "metadata": {
        "id": "w2ZCnxGSNvCM"
      }
    },
    {
      "cell_type": "markdown",
      "source": [
        "5.What are iterators in Python and how do they differ from iterables?\n",
        "  - Iterators in Python are objects that allow you to traverse through all the elements of a collection, such as lists, tuples, or sets where as iterables are object that can return iterator for example potato is an iterator and and choppin and boiling it and getting it prepare it for coockin can be termed as iterable"
      ],
      "metadata": {
        "id": "laxH1ZgtOjop"
      }
    },
    {
      "cell_type": "markdown",
      "source": [
        " 6.Explain the concept of generators in Python and how they are defined.\n",
        " - Generators are specila type of iterators that is defined using a function yield other than using retuern yeilds suspends functions and save its states"
      ],
      "metadata": {
        "id": "ljHEQTO1OnB1"
      }
    },
    {
      "cell_type": "markdown",
      "source": [
        "7. What are the advantages of using generators over regular functions?\n",
        "- advantages are\n",
        "\n",
        "1 - it is easier t implement\n",
        "\n",
        "2 - it also improves performance as it provides values one at at time\n",
        "\n",
        "3 - it also provides good perfomance and avoid storing or creating large list"
      ],
      "metadata": {
        "id": "ZTTeTV7ORgYh"
      }
    },
    {
      "cell_type": "markdown",
      "source": [
        "8.What is a lambda function in Python and when is it typically used?\n",
        "  - a lambda function is a nameless anonymous function that is defined using lambda keyword used for short and simple operations"
      ],
      "metadata": {
        "id": "krjtmULrTiQk"
      }
    },
    {
      "cell_type": "markdown",
      "source": [
        "9.Explain the purpose and usage of the `map()` function in Python?\n",
        "  -  a map() function purpose is to give function to all iterable and return map object"
      ],
      "metadata": {
        "id": "YbBO-hN_UPeQ"
      }
    },
    {
      "cell_type": "markdown",
      "source": [
        "10. What is the difference between `map()`, `reduce()`, and `filter()` functions in Python?\n",
        "  -   `map()`, `filter()`, and `reduce()` are functions in Python used for processing iterables efficiently.  \n",
        "\n",
        "- **`map()`** applies a function to each element and returns a new iterable with the transformed values.  \n",
        "- **`filter()`** selects elements that meet a condition, returning only those that evaluate to `True`.  \n",
        "- **`reduce()`** (from `functools`) combines elements cumulatively to produce a single result.  \n",
        "\n",
        "### Key Differences:  \n",
        "- `map()` modifies elements,  \n",
        "- `filter()` removes elements that don’t match a condition,  \n",
        "- `reduce()` collapses everything into one value.  \n",
        "\n",
        "Simple and efficient, these functions help streamline data processing in Python."
      ],
      "metadata": {
        "id": "pNUJU0f3VO89"
      }
    },
    {
      "cell_type": "markdown",
      "source": [
        ". Write a Python function that takes a list of numbers as input and returns the sum of all even numbers in\n",
        "the list."
      ],
      "metadata": {
        "id": "Yl3B3TQF5AzG"
      }
    }
  ]
}